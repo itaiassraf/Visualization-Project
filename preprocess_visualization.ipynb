{
  "nbformat": 4,
  "nbformat_minor": 0,
  "metadata": {
    "colab": {
      "name": "preprocess_visualization.ipynb",
      "provenance": [],
      "collapsed_sections": []
    },
    "kernelspec": {
      "name": "python3",
      "display_name": "Python 3"
    },
    "language_info": {
      "name": "python"
    }
  },
  "cells": [
    {
      "cell_type": "markdown",
      "source": [
        "# **Visualization Project- PreProcess**"
      ],
      "metadata": {
        "id": "UiIkgyjhsWfX"
      }
    },
    {
      "cell_type": "markdown",
      "source": [
        "![NBA75_313x.png](data:image/png;base64,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)"
      ],
      "metadata": {
        "id": "tWUacnfrqtN9"
      }
    },
    {
      "cell_type": "code",
      "execution_count": null,
      "metadata": {
        "id": "OmXXFSaEoxbN"
      },
      "outputs": [],
      "source": [
        "!pip install nba_api"
      ]
    },
    {
      "cell_type": "markdown",
      "source": [
        "# **packages**"
      ],
      "metadata": {
        "id": "1uZSmvvVo5MP"
      }
    },
    {
      "cell_type": "code",
      "source": [
        "import matplotlib.pyplot as plt\n",
        "import numpy as np\n",
        "import seaborn as sns\n",
        "import pandas as pd\n",
        "from time import sleep\n",
        "from nba_api.stats.endpoints.shotchartdetail import ShotChartDetail\n",
        "from nba_api.stats.static.players import find_players_by_full_name"
      ],
      "metadata": {
        "id": "erniEsrvo3Lx"
      },
      "execution_count": null,
      "outputs": []
    },
    {
      "cell_type": "markdown",
      "source": [
        "## **Find 100 Location where the most shots were thrown.** "
      ],
      "metadata": {
        "id": "QiHbT4nipdUE"
      }
    },
    {
      "cell_type": "code",
      "source": [
        "def find_100_most_frequent_locations_throws(data_frame):\n",
        "    \n",
        "    specific_location_X_Y=[]\n",
        "    counter_throws=[]\n",
        "    on_court_X=[]\n",
        "    on_court_Y=[]\n",
        "    counter_of_throws_in_each_location= {}\n",
        "\n",
        "    for i in range(len(data_frame)):\n",
        "        row = data_frame.iloc[i]\n",
        "\n",
        "        if row.LOC_X+250 != 0:\n",
        "           location_X_normalized=int(((row.LOC_X+250) /485) * 30)\n",
        "        else:\n",
        "            location_X_normalized=0\n",
        "        if row.LOC_Y+50 != 0:\n",
        "           location_Y_normalized=int(((row.LOC_Y+50) / 300) * 20)\n",
        "        else:\n",
        "            location_Y_normalized=0\n",
        "\n",
        "        x_loc_on_court = ((location_X_normalized * 485) / 30 + ((location_X_normalized + 1) * 485) / 30) / 2 - 250 \n",
        "        y_loc_on_court = ((location_Y_normalized * 300) / 20 + ((location_Y_normalized + 1) * 300) / 20) / 2 - 50  \n",
        "\n",
        "        on_court_X.append(x_loc_on_court)\n",
        "        on_court_Y.append(y_loc_on_court)\n",
        "\n",
        "        if (x_loc_on_court,y_loc_on_court) not in counter_of_throws_in_each_location:\n",
        "          counter_of_throws_in_each_location[(x_loc_on_court,y_loc_on_court)] = 1\n",
        "        else:\n",
        "          counter_of_throws_in_each_location[(x_loc_on_court,y_loc_on_court)] += 1\n",
        "        \n",
        "    for j in range(len(data_frame)):        \n",
        "        counter_throws.append(counter_of_throws_in_each_location[(on_court_X[j],on_court_Y[j])] )\n",
        "\n",
        "    \n",
        "    data_frame['COUNT_THROWS_LOC'] = counter_throws\n",
        "    data_frame['ON_COURT_LOC_X'] = on_court_X\n",
        "    data_frame['ON_COURT_LOC_Y'] = on_court_Y\n",
        "  \n",
        "    data_frame2=data_frame.copy()\n",
        "    #sorting the best 100 locations\n",
        "    data_frame2=data_frame2.drop_duplicates(subset=['ON_COURT_LOC_X', 'ON_COURT_LOC_Y'], keep='first').sort_values(by='COUNT_THROWS_LOC', ascending=False)[:100]\n",
        "    \n",
        "    dict_locX_locY_amount_shots = dict([((x,y),z) for x,y,z in zip(data_frame2.ON_COURT_LOC_X, data_frame2.ON_COURT_LOC_Y,data_frame2.COUNT_THROWS_LOC)])\n",
        "\n",
        "    dict_best_player={}\n",
        "    made_shots_in_each_location={}\n",
        "    \n",
        "    for i in range(len(data_frame)):\n",
        "        row = data_frame.iloc[i]\n",
        "        key=(row.ON_COURT_LOC_X,row.ON_COURT_LOC_Y)\n",
        "        \n",
        "        if key in list(dict_locX_locY_amount_shots.keys()):\n",
        "\n",
        "          if key not in made_shots_in_each_location:\n",
        "             made_shots_in_each_location[key]=0\n",
        "\n",
        "          if row.SHOT_MADE_FLAG==1:    \n",
        "                made_shots_in_each_location[key]+=1\n",
        "          \n",
        "          if key not in dict_best_player:\n",
        "            dict_best_player[key]={row.PLAYER_NAME:[0,0]}\n",
        "          \n",
        "          if row.PLAYER_NAME not in dict_best_player[key]:\n",
        "            dict_best_player[key].update({row.PLAYER_NAME:[0,0]})\n",
        "\n",
        "          if row.PLAYER_NAME in dict_best_player[key]:\n",
        "                if row.SHOT_MADE_FLAG==1:    \n",
        "                   dict_best_player[key][row.PLAYER_NAME][0]+=1\n",
        "                dict_best_player[key][row.PLAYER_NAME][1]+=1\n",
        "\n",
        "    percentage_in_each_location=[made_shots_in_each_location[x]/dict_locX_locY_amount_shots[x] for x in dict_locX_locY_amount_shots]\n",
        "    \n",
        "    dict_percent_player={}\n",
        "    lst_most_shots_player=[]\n",
        "    lst_amount_shots=[]\n",
        "    lst_field_goal=[]\n",
        "    for i in range(len(data_frame2)):\n",
        "        row = data_frame2.iloc[i]\n",
        "        key=(row.ON_COURT_LOC_X,row.ON_COURT_LOC_Y)\n",
        "        lst_items_player_percentage=list(dict_best_player[key].items())\n",
        "        lst_items_player_percentage=sorted(lst_items_player_percentage,key=lambda x: x[1][1],reverse=True)\n",
        "        dict_percent_player[key]=lst_items_player_percentage[0]\n",
        "        lst_most_shots_player.append(lst_items_player_percentage[0][0])\n",
        "        lst_amount_shots.append(lst_items_player_percentage[0][1][1])\n",
        "        fg=lst_items_player_percentage[0][1][0]/lst_items_player_percentage[0][1][1]\n",
        "        lst_field_goal.append(fg)\n",
        "\n",
        "\n",
        "    data_frame2['FG_LOCATION'] = percentage_in_each_location\n",
        "    data_frame2['PLAYER_MOST_FREQUENCY_LOC'] = lst_most_shots_player\n",
        "    data_frame2['FG_OF_PLAYER_MOST_FREQUENCY_LOC'] = lst_field_goal\n",
        "    data_frame2['AMOUNT_THROWS_OF_PLAYER_MOST_FREQUENCY_LOC'] = lst_amount_shots\n",
        "\n",
        "    return data_frame2"
      ],
      "metadata": {
        "id": "4U8PKOLTo7ZU"
      },
      "execution_count": null,
      "outputs": []
    },
    {
      "cell_type": "markdown",
      "source": [
        "### **Running On Each Season between 2000-2020 and taking those 100 location and their details**"
      ],
      "metadata": {
        "id": "SzbXDhDzpsgf"
      }
    },
    {
      "cell_type": "code",
      "source": [
        "season=['2000-01','2001-02','2002-03','2003-04','2004-05','2005-06','2006-07','2007-08','2008-09','2009-10','2010-11','2011-12','2012-13','2013-14','2014-15','2015-16','2016-17','2017-18','2018-19','2019-20','2020-21']"
      ],
      "metadata": {
        "id": "sxQwMmKcplei"
      },
      "execution_count": null,
      "outputs": []
    },
    {
      "cell_type": "code",
      "source": [
        "df=[]"
      ],
      "metadata": {
        "id": "rjIBNhCXrlD2"
      },
      "execution_count": null,
      "outputs": []
    },
    {
      "cell_type": "code",
      "source": [
        "for s in season:\n",
        "    shotchart_detail = ShotChartDetail(team_id=0, player_id=0, context_measure_simple='FGA', season_nullable=s, timeout=90)\n",
        "    shot_df = shotchart_detail.get_data_frames()[0]\n",
        "    best_100 = find_100_most_frequent_locations_throws(data_frame=shot_df)\n",
        "    df.append(best_100)\n",
        "    sleep(1)"
      ],
      "metadata": {
        "id": "4cMg515Gpl76"
      },
      "execution_count": null,
      "outputs": []
    },
    {
      "cell_type": "markdown",
      "source": [
        "### **I download the file (100 location in each 21 seasons)**"
      ],
      "metadata": {
        "id": "P6PeCilEp76R"
      }
    },
    {
      "cell_type": "code",
      "source": [
        "pd.concat(df).to_csv('21Seasons_Locations_top100_new.csv')"
      ],
      "metadata": {
        "id": "rTbBKZj5p7c7"
      },
      "execution_count": null,
      "outputs": []
    },
    {
      "cell_type": "markdown",
      "source": [
        "### **Reading It**"
      ],
      "metadata": {
        "id": "7P_HxBHLqOAf"
      }
    },
    {
      "cell_type": "code",
      "source": [
        "x=pd.read_csv('21Seasons_Locations_top100_new.csv')"
      ],
      "metadata": {
        "id": "zhvser-xqNHT"
      },
      "execution_count": null,
      "outputs": []
    },
    {
      "cell_type": "markdown",
      "source": [
        "### **Putting The Season as a Column in DataFrame**"
      ],
      "metadata": {
        "id": "m6EKavKyqQnu"
      }
    },
    {
      "cell_type": "code",
      "source": [
        "lst=[]\n",
        "for i in x.GAME_DATE:\n",
        "  year_string=str(i)\n",
        "  year_string=year_string[0:4]\n",
        "  int_year=int(year_string)\n",
        "  lst.append(int_year)\n",
        "x['season']=lst"
      ],
      "metadata": {
        "id": "g3-uxAPYqTIM"
      },
      "execution_count": null,
      "outputs": []
    },
    {
      "cell_type": "markdown",
      "source": [
        "### **Calculating the relation between the amount of 3 point shots to all shots**"
      ],
      "metadata": {
        "id": "E7pAi_B6qUz3"
      }
    },
    {
      "cell_type": "code",
      "source": [
        "y=x[['FG_LOCATION','SHOT_ZONE_BASIC']]\n",
        "lst_shot_zone_basic_new=[]\n",
        "lst=[]\n",
        "lst_mid=[]\n",
        "lst_restrict=[]\n",
        "lst_paint=[]\n",
        "for j in range(21):\n",
        "  new_df=x[100*j:(j+1)*100]\n",
        "  c_3points=0\n",
        "  c_2points=0\n",
        "  C2_MID=0\n",
        "  C2_RESTRICT=0\n",
        "  C2_PAINT=0\n",
        "  for i in range(len(new_df)):\n",
        "    row=new_df.iloc[i]\n",
        "    if '3' in row.SHOT_ZONE_BASIC:\n",
        "      c_3points+=row.COUNT_THROWS_LOC\n",
        "      lst_shot_zone_basic_new.append('Above The break 3')\n",
        "    else:\n",
        "      c_2points+=row.COUNT_THROWS_LOC\n",
        "      if row.SHOT_ZONE_BASIC == 'In The Paint (Non-RA)':\n",
        "        lst_shot_zone_basic_new.append('In The Paint (Non-RA)')\n",
        "        C2_PAINT+=row.COUNT_THROWS_LOC\n",
        "      if row.SHOT_ZONE_BASIC == 'Restricted Area':\n",
        "        lst_shot_zone_basic_new.append('Restricted Area')\n",
        "        C2_RESTRICT+=row.COUNT_THROWS_LOC\n",
        "      if row.SHOT_ZONE_BASIC == 'Mid-Range':\n",
        "          lst_shot_zone_basic_new.append('Mid-Range')\n",
        "          C2_MID+=row.COUNT_THROWS_LOC\n",
        "  \n",
        "  lst.append((c_3points/(c_3points+c_2points)))\n",
        "  lst_mid.append((C2_MID/(c_3points+c_2points)))\n",
        "  lst_restrict.append((C2_RESTRICT/(c_3points+c_2points)))\n",
        "  lst_paint.append((C2_PAINT/(c_3points+c_2points)))\n",
        "\n",
        "x['SHOT_ZONE_BASIC']=lst_shot_zone_basic_new\n"
      ],
      "metadata": {
        "id": "_4drLV6eqYWo"
      },
      "execution_count": null,
      "outputs": []
    },
    {
      "cell_type": "code",
      "source": [
        "df_relation_3shots_allshots=pd.DataFrame()\n",
        "year1=1999\n",
        "lst_year1=[]\n",
        "lst_year2=[]\n",
        "lst_relation3=[]\n",
        "lst_relation_mid=[]\n",
        "lst_relation_paint=[]\n",
        "lst_relation_restrict=[]\n",
        "\n",
        "for i in range(1,len(lst)+1):\n",
        "  year_location=lst[0:i]\n",
        "  year_paint=lst_paint[0:i]\n",
        "  year_restrict=lst_restrict[0:i]\n",
        "  year_mid=lst_mid[0:i]\n",
        "  year1+=1\n",
        "  year2=1999\n",
        "  for j in range(len(year_location)):\n",
        "    year2+=1\n",
        "    lst_year1.append(year1)\n",
        "    lst_year2.append(year2)\n",
        "    lst_relation3.append(year_location[j])\n",
        "    lst_relation_mid.append(year_mid[j])\n",
        "    lst_relation_paint.append(year_paint[j])\n",
        "    lst_relation_restrict.append(year_restrict[j])\n",
        "\n",
        "df_relation_3shots_allshots['season']=lst_year1\n",
        "df_relation_3shots_allshots['year'] = lst_year2\n",
        "df_relation_3shots_allshots['3Points_Shots_To_All_Shots'] = lst_relation3\n",
        "df_relation_3shots_allshots['MID_Points_Shots_To_All_Shots'] = lst_relation_mid\n",
        "df_relation_3shots_allshots['PAINT_Points_Shots_To_All_Shots'] = lst_relation_paint\n",
        "df_relation_3shots_allshots['RESTRICT_Points_Shots_To_All_Shots'] = lst_relation_restrict\n"
      ],
      "metadata": {
        "id": "uhscw78BqbiW"
      },
      "execution_count": null,
      "outputs": []
    },
    {
      "cell_type": "markdown",
      "source": [
        "### **Download The File**"
      ],
      "metadata": {
        "id": "ynWbiRoxqm-b"
      }
    },
    {
      "cell_type": "code",
      "source": [
        "df_relation_3shots_allshots.to_csv('each_area_relation.csv')"
      ],
      "metadata": {
        "id": "WgFU_G2QqmjX"
      },
      "execution_count": null,
      "outputs": []
    },
    {
      "cell_type": "markdown",
      "source": [
        "הבהרה חשובה מאוד !!\n",
        "מכיוון שאני הורדתי את הקבצים אליי למחשב, אם תרצו להריץ- ההרצה לוקחת כשעה מכיוון שזה 4 מיליון נתונים מ 21 עונות. \n",
        "בנוסף לכך יש בעיה כללית לגבי החבילה (לאחר בירור באינטרנט גיליתי שזה באג ב חבילה)\n",
        "ב nba_api\n",
        "יש באג כאשר מבקשים נתונים של עונה מסוימת - פשוט יש צורך להריץ עוד פעם עד שהשגיאה מפסיקה וזה מתחיל לרוץ.\n",
        "לכן זה לוקח כקצת יותר משעה הרצה.\n",
        "\n",
        "מכיוון שאני מעלה את הקבצים איתי להגשה, תוכלו לראות את מה שפירטתי בדו\"ח כיצד זה בא לידי ביטוי בקבצים עצמם.\n",
        "\n",
        "* זה מיועד אך ורק אם תרצו להריץ קובץ זה *"
      ],
      "metadata": {
        "id": "UFqR7EGXsK8k"
      }
    }
  ]
}